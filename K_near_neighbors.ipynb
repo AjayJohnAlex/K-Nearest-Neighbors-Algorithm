{
  "nbformat": 4,
  "nbformat_minor": 0,
  "metadata": {
    "colab": {
      "name": "K_near_neighbors",
      "provenance": []
    },
    "kernelspec": {
      "name": "python3",
      "display_name": "Python 3"
    }
  },
  "cells": [
    {
      "cell_type": "code",
      "metadata": {
        "id": "L6lXlARCTWP3",
        "colab_type": "code",
        "colab": {}
      },
      "source": [
        "import numpy as np\n",
        "import pandas as pd\n",
        "import matplotlib.pyplot as plt\n",
        "import warnings\n",
        "from collections import Counter\n",
        "%matplotlib inline"
      ],
      "execution_count": 0,
      "outputs": []
    },
    {
      "cell_type": "code",
      "metadata": {
        "id": "IQf4a2-iUHAO",
        "colab_type": "code",
        "outputId": "7086a679-45d8-452a-ffcc-6b0cc25fe2c3",
        "colab": {
          "base_uri": "https://localhost:8080/",
          "height": 34
        }
      },
      "source": [
        "# Euclidean Distance \n",
        "\n",
        "a = [1,2]\n",
        "a2 = [5,5]\n",
        "\n",
        "euclidean_dst1 = np.sqrt( ( a[0] - a2[0] )**2 + (a[1] - a2[1])**2 )\n",
        "euclidean_dst1"
      ],
      "execution_count": 0,
      "outputs": [
        {
          "output_type": "execute_result",
          "data": {
            "text/plain": [
              "5.0"
            ]
          },
          "metadata": {
            "tags": []
          },
          "execution_count": 2
        }
      ]
    },
    {
      "cell_type": "code",
      "metadata": {
        "id": "OCwWa9ofUiIj",
        "colab_type": "code",
        "outputId": "de11e5e7-ea9c-48b0-dd30-164946315390",
        "colab": {
          "base_uri": "https://localhost:8080/",
          "height": 34
        }
      },
      "source": [
        "# Faster method\n",
        "\n",
        "# a = [1,2]\n",
        "# a2 = [5,5]\n",
        "\n",
        "a = [[1,2],[2,1],[1,3]]\n",
        "a2 = [[5,5],[7,7],[6,6]]\n",
        "# euclidean_list = np.sum((np.array(a) - np.array(a2))**2) \n",
        "euclidean_dst2 = np.sqrt(np.sum((np.array(a) - np.array(a2))**2) )\n",
        "# print(euclidean_list)\n",
        "euclidean_dst2"
      ],
      "execution_count": 0,
      "outputs": [
        {
          "output_type": "execute_result",
          "data": {
            "text/plain": [
              "10.954451150103322"
            ]
          },
          "metadata": {
            "tags": []
          },
          "execution_count": 31
        }
      ]
    },
    {
      "cell_type": "code",
      "metadata": {
        "id": "BDd3-k5QsrXC",
        "colab_type": "code",
        "outputId": "e56af5a5-50bf-4df3-d4fe-23a6991966ad",
        "colab": {
          "base_uri": "https://localhost:8080/",
          "height": 68
        }
      },
      "source": [
        "first  = [[4,4.5],[3,3.7]]\n",
        "pred = [1,3]\n",
        "\n",
        "euclidean_list = ((np.array(first) - np.array(pred))**2) \n",
        "euclidean_dst2 = np.sqrt(np.sum((np.array(first) - np.array(pred))**2) )\n",
        "print(euclidean_list)\n",
        "euclidean_dst2"
      ],
      "execution_count": 0,
      "outputs": [
        {
          "output_type": "stream",
          "text": [
            "[[9.   2.25]\n",
            " [4.   0.49]]\n"
          ],
          "name": "stdout"
        },
        {
          "output_type": "execute_result",
          "data": {
            "text/plain": [
              "3.9673668849754744"
            ]
          },
          "metadata": {
            "tags": []
          },
          "execution_count": 34
        }
      ]
    },
    {
      "cell_type": "code",
      "metadata": {
        "colab_type": "code",
        "id": "t9tF4N3vnIMR",
        "outputId": "d85a1900-f0b7-47ce-a9b2-3632a78ee2f9",
        "colab": {
          "base_uri": "https://localhost:8080/",
          "height": 1000
        }
      },
      "source": [
        "# fastest method\n",
        "\n",
        "k_dict = {\n",
        "    'r' : [[1,2],[2,3],[2,5],[1,5]],\n",
        "    'b' : [[9,7],[5,8],[8,9],[7,6]]\n",
        "}\n",
        "# k_dict = {\n",
        "#     'r' : [[4,4.5],[3,3.7],[5,5],[1,5]],\n",
        "#     'b' : [[.1,.2],[.5,.3],[.1,.2],[.7,6]]\n",
        "# }\n",
        "new_features = [4.5,6] \n",
        "\n",
        "[ [plt.scatter(j[0],j[1],c=i)for j in k_dict[i]] for i in k_dict]\n",
        "plt.scatter(new_features[0],new_features[1],c='k')\n",
        "\n",
        "def euclidean_fn(input_data,pred_data,k):\n",
        "  distance = []\n",
        "  print(len(input_data))\n",
        "  if len(input_data) >= k:\n",
        "\n",
        "    warnings.warn('The len of input is more than value of k.')\n",
        "\n",
        "  for i in input_data :\n",
        "    for j in input_data[i]:\n",
        "      euclidean_distance = np.linalg.norm(np.array(j) - np.array(new_features))\n",
        "      print(\"euclidean_distance\",euclidean_distance)\n",
        "      distance.append([euclidean_distance,i])\n",
        "      print(\"distance\",distance)\n",
        "      print(\"\\n\")\n",
        "\n",
        "      votes = [i[1] for i in sorted(distance)[:k]]\n",
        "      print(\"votes\",votes)\n",
        "      votes_result = Counter(votes).most_common(1)[0][0]\n",
        "      print(\"votes_result\",votes_result)\n",
        "  return votes_result\n",
        "\n",
        "output = euclidean_fn(k_dict,new_features,k=5)\n",
        "print(\"output\",output)\n",
        "# print(\"euclidean_fn\",euclidean_fn(k_dict,new_features,k=3))\n",
        "\n",
        "[ [plt.scatter(j[0],j[1],c=i)for j in k_dict[i]] for i in k_dict]\n",
        "plt.scatter(new_features[0],new_features[1],c=output)"
      ],
      "execution_count": 0,
      "outputs": [
        {
          "output_type": "stream",
          "text": [
            "2\n",
            "euclidean_distance 5.315072906367325\n",
            "distance [[5.315072906367325, 'r']]\n",
            "\n",
            "\n",
            "votes ['r']\n",
            "votes_result r\n",
            "euclidean_distance 3.905124837953327\n",
            "distance [[5.315072906367325, 'r'], [3.905124837953327, 'r']]\n",
            "\n",
            "\n",
            "votes ['r', 'r']\n",
            "votes_result r\n",
            "euclidean_distance 2.692582403567252\n",
            "distance [[5.315072906367325, 'r'], [3.905124837953327, 'r'], [2.692582403567252, 'r']]\n",
            "\n",
            "\n",
            "votes ['r', 'r', 'r']\n",
            "votes_result r\n",
            "euclidean_distance 3.640054944640259\n",
            "distance [[5.315072906367325, 'r'], [3.905124837953327, 'r'], [2.692582403567252, 'r'], [3.640054944640259, 'r']]\n",
            "\n",
            "\n",
            "votes ['r', 'r', 'r', 'r']\n",
            "votes_result r\n",
            "euclidean_distance 4.6097722286464435\n",
            "distance [[5.315072906367325, 'r'], [3.905124837953327, 'r'], [2.692582403567252, 'r'], [3.640054944640259, 'r'], [4.6097722286464435, 'b']]\n",
            "\n",
            "\n",
            "votes ['r', 'r', 'r', 'b', 'r']\n",
            "votes_result r\n",
            "euclidean_distance 2.0615528128088303\n",
            "distance [[5.315072906367325, 'r'], [3.905124837953327, 'r'], [2.692582403567252, 'r'], [3.640054944640259, 'r'], [4.6097722286464435, 'b'], [2.0615528128088303, 'b']]\n",
            "\n",
            "\n",
            "votes ['b', 'r', 'r', 'r', 'b']\n",
            "votes_result r\n",
            "euclidean_distance 4.6097722286464435\n",
            "distance [[5.315072906367325, 'r'], [3.905124837953327, 'r'], [2.692582403567252, 'r'], [3.640054944640259, 'r'], [4.6097722286464435, 'b'], [2.0615528128088303, 'b'], [4.6097722286464435, 'b']]\n",
            "\n",
            "\n",
            "votes ['b', 'r', 'r', 'r', 'b']\n",
            "votes_result r\n",
            "euclidean_distance 2.5\n",
            "distance [[5.315072906367325, 'r'], [3.905124837953327, 'r'], [2.692582403567252, 'r'], [3.640054944640259, 'r'], [4.6097722286464435, 'b'], [2.0615528128088303, 'b'], [4.6097722286464435, 'b'], [2.5, 'b']]\n",
            "\n",
            "\n",
            "votes ['b', 'b', 'r', 'r', 'r']\n",
            "votes_result r\n",
            "output r\n"
          ],
          "name": "stdout"
        },
        {
          "output_type": "execute_result",
          "data": {
            "text/plain": [
              "<matplotlib.collections.PathCollection at 0x7fd670f10470>"
            ]
          },
          "metadata": {
            "tags": []
          },
          "execution_count": 106
        },
        {
          "output_type": "display_data",
          "data": {
            "image/png": "[encoded data removed]",
            "text/plain": [
              "<Figure size 432x288 with 1 Axes>"
            ]
          },
          "metadata": {
            "tags": []
          }
        }
      ]
    },
    {
      "cell_type": "code",
      "metadata": {
        "id": "vLzcsdYk6Uce",
        "colab_type": "code",
        "colab": {}
      },
      "source": [
        ""
      ],
      "execution_count": 0,
      "outputs": []
    }
  ]
}