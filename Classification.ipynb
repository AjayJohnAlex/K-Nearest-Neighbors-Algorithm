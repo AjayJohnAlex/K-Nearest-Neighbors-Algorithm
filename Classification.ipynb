{
  "nbformat": 4,
  "nbformat_minor": 0,
  "metadata": {
    "colab": {
      "name": "Classification.ipynb",
      "provenance": []
    },
    "kernelspec": {
      "name": "python3",
      "display_name": "Python 3"
    }
  },
  "cells": [
    {
      "cell_type": "code",
      "metadata": {
        "id": "Bfk_gsTDq23H",
        "colab_type": "code",
        "colab": {}
      },
      "source": [
        "import pandas as pd\n",
        "import numpy as np\n",
        "import matplotlib.pyplot as plt\n",
        "import seaborn as sns\n",
        "%matplotlib inline"
      ],
      "execution_count": 0,
      "outputs": []
    },
    {
      "cell_type": "code",
      "metadata": {
        "id": "RrvFF34WreVZ",
        "colab_type": "code",
        "colab": {
          "base_uri": "https://localhost:8080/",
          "height": 204
        },
        "outputId": "52f3482d-5c59-49b1-f076-deeeee323c6c"
      },
      "source": [
        "df  = pd.read_csv(\"/content/Social_Network_Ads.csv\")\n",
        "df.head()"
      ],
      "execution_count": 18,
      "outputs": [
        {
          "output_type": "execute_result",
          "data": {
            "text/html": [
              "<div>\n",
              "<style scoped>\n",
              "    .dataframe tbody tr th:only-of-type {\n",
              "        vertical-align: middle;\n",
              "    }\n",
              "\n",
              "    .dataframe tbody tr th {\n",
              "        vertical-align: top;\n",
              "    }\n",
              "\n",
              "    .dataframe thead th {\n",
              "        text-align: right;\n",
              "    }\n",
              "</style>\n",
              "<table border=\"1\" class=\"dataframe\">\n",
              "  <thead>\n",
              "    <tr style=\"text-align: right;\">\n",
              "      <th></th>\n",
              "      <th>User ID</th>\n",
              "      <th>Gender</th>\n",
              "      <th>Age</th>\n",
              "      <th>EstimatedSalary</th>\n",
              "      <th>Purchased</th>\n",
              "    </tr>\n",
              "  </thead>\n",
              "  <tbody>\n",
              "    <tr>\n",
              "      <th>0</th>\n",
              "      <td>15624510</td>\n",
              "      <td>Male</td>\n",
              "      <td>19</td>\n",
              "      <td>19000</td>\n",
              "      <td>0</td>\n",
              "    </tr>\n",
              "    <tr>\n",
              "      <th>1</th>\n",
              "      <td>15810944</td>\n",
              "      <td>Male</td>\n",
              "      <td>35</td>\n",
              "      <td>20000</td>\n",
              "      <td>0</td>\n",
              "    </tr>\n",
              "    <tr>\n",
              "      <th>2</th>\n",
              "      <td>15668575</td>\n",
              "      <td>Female</td>\n",
              "      <td>26</td>\n",
              "      <td>43000</td>\n",
              "      <td>0</td>\n",
              "    </tr>\n",
              "    <tr>\n",
              "      <th>3</th>\n",
              "      <td>15603246</td>\n",
              "      <td>Female</td>\n",
              "      <td>27</td>\n",
              "      <td>57000</td>\n",
              "      <td>0</td>\n",
              "    </tr>\n",
              "    <tr>\n",
              "      <th>4</th>\n",
              "      <td>15804002</td>\n",
              "      <td>Male</td>\n",
              "      <td>19</td>\n",
              "      <td>76000</td>\n",
              "      <td>0</td>\n",
              "    </tr>\n",
              "  </tbody>\n",
              "</table>\n",
              "</div>"
            ],
            "text/plain": [
              "    User ID  Gender  Age  EstimatedSalary  Purchased\n",
              "0  15624510    Male   19            19000          0\n",
              "1  15810944    Male   35            20000          0\n",
              "2  15668575  Female   26            43000          0\n",
              "3  15603246  Female   27            57000          0\n",
              "4  15804002    Male   19            76000          0"
            ]
          },
          "metadata": {
            "tags": []
          },
          "execution_count": 18
        }
      ]
    },
    {
      "cell_type": "code",
      "metadata": {
        "id": "Pm7GXExErh38",
        "colab_type": "code",
        "colab": {
          "base_uri": "https://localhost:8080/",
          "height": 119
        },
        "outputId": "b2301a91-bec2-4411-fd99-f5a03e1c272d"
      },
      "source": [
        "df.isnull().sum()"
      ],
      "execution_count": 3,
      "outputs": [
        {
          "output_type": "execute_result",
          "data": {
            "text/plain": [
              "User ID            0\n",
              "Gender             0\n",
              "Age                0\n",
              "EstimatedSalary    0\n",
              "Purchased          0\n",
              "dtype: int64"
            ]
          },
          "metadata": {
            "tags": []
          },
          "execution_count": 3
        }
      ]
    },
    {
      "cell_type": "code",
      "metadata": {
        "id": "pS6PM5bVrk2L",
        "colab_type": "code",
        "colab": {
          "base_uri": "https://localhost:8080/",
          "height": 187
        },
        "outputId": "3e052088-a9f1-441a-fb89-ce9cbe936120"
      },
      "source": [
        "df.info()"
      ],
      "execution_count": 4,
      "outputs": [
        {
          "output_type": "stream",
          "text": [
            "<class 'pandas.core.frame.DataFrame'>\n",
            "RangeIndex: 400 entries, 0 to 399\n",
            "Data columns (total 5 columns):\n",
            "User ID            400 non-null int64\n",
            "Gender             400 non-null object\n",
            "Age                400 non-null int64\n",
            "EstimatedSalary    400 non-null int64\n",
            "Purchased          400 non-null int64\n",
            "dtypes: int64(4), object(1)\n",
            "memory usage: 15.8+ KB\n"
          ],
          "name": "stdout"
        }
      ]
    },
    {
      "cell_type": "code",
      "metadata": {
        "id": "F9Y0L6V8roiE",
        "colab_type": "code",
        "colab": {
          "base_uri": "https://localhost:8080/",
          "height": 297
        },
        "outputId": "8d2ccf6b-0b8a-4ce1-ce4b-59c62b8d2e53"
      },
      "source": [
        "df.describe()"
      ],
      "execution_count": 5,
      "outputs": [
        {
          "output_type": "execute_result",
          "data": {
            "text/html": [
              "<div>\n",
              "<style scoped>\n",
              "    .dataframe tbody tr th:only-of-type {\n",
              "        vertical-align: middle;\n",
              "    }\n",
              "\n",
              "    .dataframe tbody tr th {\n",
              "        vertical-align: top;\n",
              "    }\n",
              "\n",
              "    .dataframe thead th {\n",
              "        text-align: right;\n",
              "    }\n",
              "</style>\n",
              "<table border=\"1\" class=\"dataframe\">\n",
              "  <thead>\n",
              "    <tr style=\"text-align: right;\">\n",
              "      <th></th>\n",
              "      <th>User ID</th>\n",
              "      <th>Age</th>\n",
              "      <th>EstimatedSalary</th>\n",
              "      <th>Purchased</th>\n",
              "    </tr>\n",
              "  </thead>\n",
              "  <tbody>\n",
              "    <tr>\n",
              "      <th>count</th>\n",
              "      <td>4.000000e+02</td>\n",
              "      <td>400.000000</td>\n",
              "      <td>400.000000</td>\n",
              "      <td>400.000000</td>\n",
              "    </tr>\n",
              "    <tr>\n",
              "      <th>mean</th>\n",
              "      <td>1.569154e+07</td>\n",
              "      <td>37.655000</td>\n",
              "      <td>69742.500000</td>\n",
              "      <td>0.357500</td>\n",
              "    </tr>\n",
              "    <tr>\n",
              "      <th>std</th>\n",
              "      <td>7.165832e+04</td>\n",
              "      <td>10.482877</td>\n",
              "      <td>34096.960282</td>\n",
              "      <td>0.479864</td>\n",
              "    </tr>\n",
              "    <tr>\n",
              "      <th>min</th>\n",
              "      <td>1.556669e+07</td>\n",
              "      <td>18.000000</td>\n",
              "      <td>15000.000000</td>\n",
              "      <td>0.000000</td>\n",
              "    </tr>\n",
              "    <tr>\n",
              "      <th>25%</th>\n",
              "      <td>1.562676e+07</td>\n",
              "      <td>29.750000</td>\n",
              "      <td>43000.000000</td>\n",
              "      <td>0.000000</td>\n",
              "    </tr>\n",
              "    <tr>\n",
              "      <th>50%</th>\n",
              "      <td>1.569434e+07</td>\n",
              "      <td>37.000000</td>\n",
              "      <td>70000.000000</td>\n",
              "      <td>0.000000</td>\n",
              "    </tr>\n",
              "    <tr>\n",
              "      <th>75%</th>\n",
              "      <td>1.575036e+07</td>\n",
              "      <td>46.000000</td>\n",
              "      <td>88000.000000</td>\n",
              "      <td>1.000000</td>\n",
              "    </tr>\n",
              "    <tr>\n",
              "      <th>max</th>\n",
              "      <td>1.581524e+07</td>\n",
              "      <td>60.000000</td>\n",
              "      <td>150000.000000</td>\n",
              "      <td>1.000000</td>\n",
              "    </tr>\n",
              "  </tbody>\n",
              "</table>\n",
              "</div>"
            ],
            "text/plain": [
              "            User ID         Age  EstimatedSalary   Purchased\n",
              "count  4.000000e+02  400.000000       400.000000  400.000000\n",
              "mean   1.569154e+07   37.655000     69742.500000    0.357500\n",
              "std    7.165832e+04   10.482877     34096.960282    0.479864\n",
              "min    1.556669e+07   18.000000     15000.000000    0.000000\n",
              "25%    1.562676e+07   29.750000     43000.000000    0.000000\n",
              "50%    1.569434e+07   37.000000     70000.000000    0.000000\n",
              "75%    1.575036e+07   46.000000     88000.000000    1.000000\n",
              "max    1.581524e+07   60.000000    150000.000000    1.000000"
            ]
          },
          "metadata": {
            "tags": []
          },
          "execution_count": 5
        }
      ]
    },
    {
      "cell_type": "code",
      "metadata": {
        "id": "it2p8Xw3rs_z",
        "colab_type": "code",
        "colab": {
          "base_uri": "https://localhost:8080/",
          "height": 68
        },
        "outputId": "fdb0212f-daa8-446d-a7f0-b3a97ff27fd9"
      },
      "source": [
        "df['Purchased'].value_counts()"
      ],
      "execution_count": 9,
      "outputs": [
        {
          "output_type": "execute_result",
          "data": {
            "text/plain": [
              "0    257\n",
              "1    143\n",
              "Name: Purchased, dtype: int64"
            ]
          },
          "metadata": {
            "tags": []
          },
          "execution_count": 9
        }
      ]
    },
    {
      "cell_type": "code",
      "metadata": {
        "id": "VImIoOYUrxAt",
        "colab_type": "code",
        "colab": {
          "base_uri": "https://localhost:8080/",
          "height": 119
        },
        "outputId": "8b71047b-fb16-4182-eecc-3cfda4f2a2d1"
      },
      "source": [
        "print(df['Gender'].value_counts())\n",
        "df['Gender']  =df['Gender'].apply(lambda x : 1 if x == \"Male\" else 0)\n",
        "print(df['Gender'].value_counts())"
      ],
      "execution_count": 19,
      "outputs": [
        {
          "output_type": "stream",
          "text": [
            "Female    204\n",
            "Male      196\n",
            "Name: Gender, dtype: int64\n",
            "0    204\n",
            "1    196\n",
            "Name: Gender, dtype: int64\n"
          ],
          "name": "stdout"
        }
      ]
    },
    {
      "cell_type": "code",
      "metadata": {
        "id": "AWdr_2b5wb8I",
        "colab_type": "code",
        "colab": {
          "base_uri": "https://localhost:8080/",
          "height": 536
        },
        "outputId": "2f003c84-8a43-479d-92ae-498d0c428b69"
      },
      "source": [
        "# displaying correlation between individual_features\n",
        "plt.figure(figsize=(10,8))\n",
        "sns.heatmap(df.corr(),annot=True)"
      ],
      "execution_count": 29,
      "outputs": [
        {
          "output_type": "execute_result",
          "data": {
            "text/plain": [
              "<matplotlib.axes._subplots.AxesSubplot at 0x7f5120b274e0>"
            ]
          },
          "metadata": {
            "tags": []
          },
          "execution_count": 29
        },
        {
          "output_type": "display_data",
          "data": {
            "image/png": "[encoded data removed]",
            "text/plain": [
              "<Figure size 720x576 with 2 Axes>"
            ]
          },
          "metadata": {
            "tags": []
          }
        }
      ]
    },
    {
      "cell_type": "code",
      "metadata": {
        "id": "sGDUn2cswb58",
        "colab_type": "code",
        "colab": {
          "base_uri": "https://localhost:8080/",
          "height": 296
        },
        "outputId": "9a3e849e-57fb-4c0e-b5bc-53f17aa966c2"
      },
      "source": [
        "# displaying relationship between how salary and gender is influencing purchased feature .\n",
        "sns.barplot(x='Gender',y='EstimatedSalary',data=df,hue='Purchased')"
      ],
      "execution_count": 31,
      "outputs": [
        {
          "output_type": "execute_result",
          "data": {
            "text/plain": [
              "<matplotlib.axes._subplots.AxesSubplot at 0x7f5120a164a8>"
            ]
          },
          "metadata": {
            "tags": []
          },
          "execution_count": 31
        },
        {
          "output_type": "display_data",
          "data": {
            "image/png": "[encoded data removed]",
            "text/plain": [
              "<Figure size 432x288 with 1 Axes>"
            ]
          },
          "metadata": {
            "tags": []
          }
        }
      ]
    },
    {
      "cell_type": "code",
      "metadata": {
        "id": "BtzBJ_qXwb3V",
        "colab_type": "code",
        "colab": {
          "base_uri": "https://localhost:8080/",
          "height": 296
        },
        "outputId": "a04f6926-d079-4852-d5e5-802d36d5e17e"
      },
      "source": [
        "sns.countplot(\"Gender\",hue=\"Purchased\",data=df)"
      ],
      "execution_count": 33,
      "outputs": [
        {
          "output_type": "execute_result",
          "data": {
            "text/plain": [
              "<matplotlib.axes._subplots.AxesSubplot at 0x7f51205f1c50>"
            ]
          },
          "metadata": {
            "tags": []
          },
          "execution_count": 33
        },
        {
          "output_type": "display_data",
          "data": {
            "image/png": "[encoded data removed]",
            "text/plain": [
              "<Figure size 432x288 with 1 Axes>"
            ]
          },
          "metadata": {
            "tags": []
          }
        }
      ]
    },
    {
      "cell_type": "code",
      "metadata": {
        "id": "hhpTlMQLsb_7",
        "colab_type": "code",
        "colab": {}
      },
      "source": [
        "from sklearn.model_selection import train_test_split"
      ],
      "execution_count": 0,
      "outputs": []
    },
    {
      "cell_type": "code",
      "metadata": {
        "id": "h4b0V24Lsmm5",
        "colab_type": "code",
        "colab": {}
      },
      "source": [
        "X = df.drop([\"User ID\",\"Purchased\"],axis=1)\n",
        "y = df[\"Purchased\"]\n",
        "X_train,X_test,y_train,y_test = train_test_split(X,y,test_size=0.3,random_state=101)"
      ],
      "execution_count": 0,
      "outputs": []
    },
    {
      "cell_type": "code",
      "metadata": {
        "id": "Wz-wcIyutEdh",
        "colab_type": "code",
        "colab": {}
      },
      "source": [
        "from sklearn.neighbors import KNeighborsClassifier"
      ],
      "execution_count": 0,
      "outputs": []
    },
    {
      "cell_type": "code",
      "metadata": {
        "id": "DSgcQpi8tYJM",
        "colab_type": "code",
        "colab": {
          "base_uri": "https://localhost:8080/",
          "height": 221
        },
        "outputId": "8fe800ba-9a0b-471e-fcc8-2f7f5bc14130"
      },
      "source": [
        "knn = KNeighborsClassifier()\n",
        "\n",
        "knn.fit(X_train,y_train)\n",
        "knn_pred = knn.predict(X_test)\n",
        "\n",
        "from sklearn.metrics import accuracy_score, confusion_matrix,classification_report\n",
        "\n",
        "print(classification_report(y_test,knn_pred))\n",
        "print(confusion_matrix(y_test,knn_pred))\n",
        "print(accuracy_score(y_test,knn_pred))"
      ],
      "execution_count": 23,
      "outputs": [
        {
          "output_type": "stream",
          "text": [
            "              precision    recall  f1-score   support\n",
            "\n",
            "           0       0.88      0.81      0.84        80\n",
            "           1       0.67      0.78      0.72        40\n",
            "\n",
            "    accuracy                           0.80       120\n",
            "   macro avg       0.78      0.79      0.78       120\n",
            "weighted avg       0.81      0.80      0.80       120\n",
            "\n",
            "[[65 15]\n",
            " [ 9 31]]\n",
            "0.8\n"
          ],
          "name": "stdout"
        }
      ]
    },
    {
      "cell_type": "code",
      "metadata": {
        "id": "00A3xyCjt8Xm",
        "colab_type": "code",
        "colab": {
          "base_uri": "https://localhost:8080/",
          "height": 221
        },
        "outputId": "9d75281e-3e12-49ad-981b-92bdac9da8b6"
      },
      "source": [
        "# With standard Scaling\n",
        "\n",
        "from sklearn.preprocessing import StandardScaler\n",
        "\n",
        "sd = StandardScaler()\n",
        "X_train = sd.fit_transform(X_train)\n",
        "X_test = sd.transform(X_test)\n",
        "\n",
        "knn = KNeighborsClassifier()\n",
        "\n",
        "knn.fit(X_train,y_train)\n",
        "knn_pred_ss = knn.predict(X_test)\n",
        "\n",
        "from sklearn.metrics import accuracy_score, confusion_matrix,classification_report\n",
        "\n",
        "print(classification_report(y_test,knn_pred_ss))\n",
        "print(confusion_matrix(y_test,knn_pred_ss))\n",
        "print(accuracy_score(y_test,knn_pred_ss))"
      ],
      "execution_count": 24,
      "outputs": [
        {
          "output_type": "stream",
          "text": [
            "              precision    recall  f1-score   support\n",
            "\n",
            "           0       0.99      0.93      0.95        80\n",
            "           1       0.87      0.97      0.92        40\n",
            "\n",
            "    accuracy                           0.94       120\n",
            "   macro avg       0.93      0.95      0.94       120\n",
            "weighted avg       0.95      0.94      0.94       120\n",
            "\n",
            "[[74  6]\n",
            " [ 1 39]]\n",
            "0.9416666666666667\n"
          ],
          "name": "stdout"
        }
      ]
    },
    {
      "cell_type": "code",
      "metadata": {
        "id": "6e9baal62ImG",
        "colab_type": "code",
        "colab": {
          "base_uri": "https://localhost:8080/",
          "height": 1000
        },
        "outputId": "9845aa3f-57c3-4f64-fbed-4345f146a113"
      },
      "source": [
        "# fidning the best value of K by calculating using 2 diff approach\n",
        "error_rate = []\n",
        "error_rate2 = []\n",
        "for i in range(1,10):\n",
        "\n",
        "\n",
        "  knn = KNeighborsClassifier(n_neighbors=i)\n",
        "  knn.fit(X_train,y_train)\n",
        "  knn_pred_ss = knn.predict(X_test)\n",
        "\n",
        "  error_rate.append(1 - accuracy_score(y_test,knn_pred_ss))\n",
        "  error_rate2.append(np.mean(knn_pred_ss != y_test))\n",
        "\n",
        "plt.subplots(0,0)\n",
        "plt.figure(figsize=(10,8))\n",
        "plt.plot(range(1,10) ,error_rate,marker = 'o',markersize=10,markerfacecolor='red',color='blue')\n",
        "plt.xlabel('k value')\n",
        "plt.ylabel('error_rate')\n",
        "plt.title(\"Attempt1\")\n",
        "\n",
        "plt.subplots(1,0)\n",
        "plt.figure(figsize=(10,8))\n",
        "plt.plot(range(1,10) ,error_rate2,marker = 'o',markersize=10,markerfacecolor='red',color='blue')\n",
        "plt.xlabel('k value')\n",
        "plt.ylabel('error_rate2')\n",
        "plt.title(\"Attempt2\")"
      ],
      "execution_count": 61,
      "outputs": [
        {
          "output_type": "execute_result",
          "data": {
            "text/plain": [
              "Text(0.5, 1.0, 'Attempt2')"
            ]
          },
          "metadata": {
            "tags": []
          },
          "execution_count": 61
        },
        {
          "output_type": "display_data",
          "data": {
            "text/plain": [
              "<Figure size 432x288 with 0 Axes>"
            ]
          },
          "metadata": {
            "tags": []
          }
        },
        {
          "output_type": "display_data",
          "data": {
            "image/png": "[encoded data removed]",
            "text/plain": [
              "<Figure size 720x576 with 1 Axes>"
            ]
          },
          "metadata": {
            "tags": []
          }
        },
        {
          "output_type": "display_data",
          "data": {
            "text/plain": [
              "<Figure size 432x288 with 0 Axes>"
            ]
          },
          "metadata": {
            "tags": []
          }
        },
        {
          "output_type": "display_data",
          "data": {
            "image/png": "[encoded data removed]",
            "text/plain": [
              "<Figure size 720x576 with 1 Axes>"
            ]
          },
          "metadata": {
            "tags": []
          }
        }
      ]
    },
    {
      "cell_type": "code",
      "metadata": {
        "id": "jnomDrukudhA",
        "colab_type": "code",
        "colab": {
          "base_uri": "https://localhost:8080/",
          "height": 34
        },
        "outputId": "b779be9b-511c-468b-bcbd-f88bf94e384f"
      },
      "source": [
        "# getting user input to determine if they would /would not purchase an add\n",
        "# input 1: 1(Male), 54(Age), 90000(Salary)\n",
        "# input 2: 0(Female), 34(Age), 110000(Salary)\n",
        "\n",
        "userinput = [[1,54,90000],[1,24,110000]]\n",
        "final_user_input  = sd.transform(userinput)\n",
        "user_pred = knn.predict(final_user_input)\n",
        "user_pred"
      ],
      "execution_count": 27,
      "outputs": [
        {
          "output_type": "execute_result",
          "data": {
            "text/plain": [
              "array([1, 0])"
            ]
          },
          "metadata": {
            "tags": []
          },
          "execution_count": 27
        }
      ]
    },
    {
      "cell_type": "code",
      "metadata": {
        "id": "IXNw1I_5wO69",
        "colab_type": "code",
        "colab": {
          "base_uri": "https://localhost:8080/",
          "height": 221
        },
        "outputId": "e5e261fa-ba0b-45ab-b047-14a501d30d4f"
      },
      "source": [
        "# using LogisticRegression\n",
        "from sklearn.linear_model import LogisticRegression\n",
        "\n",
        "lr = LogisticRegression(solver='liblinear',penalty='l2')\n",
        "\n",
        "sd = StandardScaler()\n",
        "X_train = sd.fit_transform(X_train)\n",
        "X_test = sd.transform(X_test)\n",
        "\n",
        "lr.fit(X_train,y_train)\n",
        "lr_pred = lr.predict(X_test)\n",
        "\n",
        "print(classification_report(y_test,lr_pred))\n",
        "print(confusion_matrix(y_test,lr_pred))\n",
        "print(accuracy_score(y_test,lr_pred))"
      ],
      "execution_count": 38,
      "outputs": [
        {
          "output_type": "stream",
          "text": [
            "              precision    recall  f1-score   support\n",
            "\n",
            "           0       0.86      0.90      0.88        80\n",
            "           1       0.78      0.70      0.74        40\n",
            "\n",
            "    accuracy                           0.83       120\n",
            "   macro avg       0.82      0.80      0.81       120\n",
            "weighted avg       0.83      0.83      0.83       120\n",
            "\n",
            "[[72  8]\n",
            " [12 28]]\n",
            "0.8333333333333334\n"
          ],
          "name": "stdout"
        }
      ]
    },
    {
      "cell_type": "code",
      "metadata": {
        "id": "mXUoHutdwb0q",
        "colab_type": "code",
        "colab": {
          "base_uri": "https://localhost:8080/",
          "height": 221
        },
        "outputId": "907c5552-9e37-480b-f0de-5817f92068fd"
      },
      "source": [
        "# using SVC\n",
        "from sklearn.svm import SVC\n",
        "\n",
        "svc = SVC(kernel='rbf')\n",
        "\n",
        "sd = StandardScaler()\n",
        "X_train = sd.fit_transform(X_train)\n",
        "X_test = sd.transform(X_test)\n",
        "\n",
        "svc.fit(X_train,y_train)\n",
        "svc_pred = svc.predict(X_test)\n",
        "\n",
        "print(classification_report(y_test,svc_pred))\n",
        "print(confusion_matrix(y_test,svc_pred))\n",
        "print(accuracy_score(y_test,svc_pred))"
      ],
      "execution_count": 63,
      "outputs": [
        {
          "output_type": "stream",
          "text": [
            "              precision    recall  f1-score   support\n",
            "\n",
            "           0       0.99      0.90      0.94        80\n",
            "           1       0.83      0.97      0.90        40\n",
            "\n",
            "    accuracy                           0.93       120\n",
            "   macro avg       0.91      0.94      0.92       120\n",
            "weighted avg       0.93      0.93      0.93       120\n",
            "\n",
            "[[72  8]\n",
            " [ 1 39]]\n",
            "0.925\n"
          ],
          "name": "stdout"
        }
      ]
    },
    {
      "cell_type": "code",
      "metadata": {
        "id": "9v9h2xAvzzba",
        "colab_type": "code",
        "colab": {
          "base_uri": "https://localhost:8080/",
          "height": 221
        },
        "outputId": "95c2d025-fa6d-4f76-effe-bdd553c1d8b6"
      },
      "source": [
        "# using DecisionTreeClassifier\n",
        "from sklearn.tree import DecisionTreeClassifier\n",
        "\n",
        "dtc = DecisionTreeClassifier()\n",
        "\n",
        "dtc.fit(X_train,y_train)\n",
        "dtc_pred = dtc.predict(X_test)\n",
        "\n",
        "print(classification_report(y_test,dtc_pred))\n",
        "print(confusion_matrix(y_test,dtc_pred))\n",
        "print(accuracy_score(y_test,dtc_pred))"
      ],
      "execution_count": 65,
      "outputs": [
        {
          "output_type": "stream",
          "text": [
            "              precision    recall  f1-score   support\n",
            "\n",
            "           0       0.96      0.90      0.93        80\n",
            "           1       0.82      0.93      0.87        40\n",
            "\n",
            "    accuracy                           0.91       120\n",
            "   macro avg       0.89      0.91      0.90       120\n",
            "weighted avg       0.91      0.91      0.91       120\n",
            "\n",
            "[[72  8]\n",
            " [ 3 37]]\n",
            "0.9083333333333333\n"
          ],
          "name": "stdout"
        }
      ]
    },
    {
      "cell_type": "code",
      "metadata": {
        "id": "4L-IKjG295je",
        "colab_type": "code",
        "colab": {
          "base_uri": "https://localhost:8080/",
          "height": 221
        },
        "outputId": "3247fb9e-f827-4bf7-9765-d15e720938ea"
      },
      "source": [
        "from sklearn.ensemble import  RandomForestClassifier\n",
        "\n",
        "rfc = RandomForestClassifier(n_estimators=20)\n",
        "\n",
        "rfc.fit(X_train,y_train)\n",
        "rfc_pred = rfc.predict(X_test)\n",
        "\n",
        "print(classification_report(y_test,rfc_pred))\n",
        "print(confusion_matrix(y_test,rfc_pred))\n",
        "print(accuracy_score(y_test,rfc_pred))"
      ],
      "execution_count": 69,
      "outputs": [
        {
          "output_type": "stream",
          "text": [
            "              precision    recall  f1-score   support\n",
            "\n",
            "           0       0.99      0.90      0.94        80\n",
            "           1       0.83      0.97      0.90        40\n",
            "\n",
            "    accuracy                           0.93       120\n",
            "   macro avg       0.91      0.94      0.92       120\n",
            "weighted avg       0.93      0.93      0.93       120\n",
            "\n",
            "[[72  8]\n",
            " [ 1 39]]\n",
            "0.925\n"
          ],
          "name": "stdout"
        }
      ]
    },
    {
      "cell_type": "code",
      "metadata": {
        "id": "IsK6rPXa-eyT",
        "colab_type": "code",
        "colab": {
          "base_uri": "https://localhost:8080/",
          "height": 595
        },
        "outputId": "03eb7579-f8a5-455c-cf34-5966d654a270"
      },
      "source": [
        "# using  naive bayes \n",
        "from sklearn.naive_bayes import BernoulliNB,GaussianNB\n",
        "\n",
        "bnb = BernoulliNB()\n",
        "\n",
        "bnb.fit(X_train,y_train)\n",
        "bnb_pred = bnb.predict(X_test)\n",
        "\n",
        "print(\"BernoulliNB classification_report: \\n\",classification_report(y_test,bnb_pred))\n",
        "print(\"BernoulliNB confusion_matrix : \\n\",confusion_matrix(y_test,bnb_pred))\n",
        "print(\"BernoulliNB accuracy_score: \\n\",accuracy_score(y_test,bnb_pred))\n",
        "print(\"\\n\")\n",
        "\n",
        "gnb = GaussianNB()\n",
        "\n",
        "gnb.fit(X_train,y_train)\n",
        "gnb_pred = gnb.predict(X_test)\n",
        "\n",
        "print(\"GaussianNB classification_report: \\n\",classification_report(y_test,gnb_pred))\n",
        "print(\"GaussianNB confusion_matrix: \\n\",confusion_matrix(y_test,gnb_pred))\n",
        "print(\"GaussianNB accuracy_score: \\n\",accuracy_score(y_test,gnb_pred))\n",
        "print(\"\\n\")\n",
        "\n"
      ],
      "execution_count": 73,
      "outputs": [
        {
          "output_type": "stream",
          "text": [
            "BernoulliNB classification_report: \n",
            "               precision    recall  f1-score   support\n",
            "\n",
            "           0       0.77      0.84      0.80        80\n",
            "           1       0.61      0.50      0.55        40\n",
            "\n",
            "    accuracy                           0.73       120\n",
            "   macro avg       0.69      0.67      0.68       120\n",
            "weighted avg       0.72      0.72      0.72       120\n",
            "\n",
            "BernoulliNB confusion_matrix : \n",
            " [[67 13]\n",
            " [20 20]]\n",
            "BernoulliNB accuracy_score: \n",
            " 0.725\n",
            "\n",
            "\n",
            "GaussianNB classification_report: \n",
            "               precision    recall  f1-score   support\n",
            "\n",
            "           0       0.94      0.93      0.93        80\n",
            "           1       0.85      0.88      0.86        40\n",
            "\n",
            "    accuracy                           0.91       120\n",
            "   macro avg       0.90      0.90      0.90       120\n",
            "weighted avg       0.91      0.91      0.91       120\n",
            "\n",
            "GaussianNB confusion_matrix: \n",
            " [[74  6]\n",
            " [ 5 35]]\n",
            "GaussianNB accuracy_score: \n",
            " 0.9083333333333333\n",
            "\n",
            "\n"
          ],
          "name": "stdout"
        }
      ]
    },
    {
      "cell_type": "markdown",
      "metadata": {
        "id": "0g65YpyiAdY3",
        "colab_type": "text"
      },
      "source": [
        "### ***For the given dataset by far the  best model has been K Nearest Neighbors .***"
      ]
    }
  ]
}